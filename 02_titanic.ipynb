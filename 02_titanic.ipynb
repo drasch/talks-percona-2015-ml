{
 "metadata": {
  "name": "",
  "signature": "sha256:3e53a9c0a0ade1d73a42f572eee5962092ccd5e2cbaa537a5f01497b87bfdc1f"
 },
 "nbformat": 3,
 "nbformat_minor": 0,
 "worksheets": [
  {
   "cells": [
    {
     "cell_type": "code",
     "collapsed": false,
     "input": [
      "import numpy as np\n",
      "import pandas as pd\n",
      "import sklearn\n",
      "import sklearn.linear_model as lm\n",
      "import sklearn.cross_validation as cv\n",
      "import sklearn.grid_search as gs\n",
      "from sklearn.metrics import confusion_matrix\n",
      "import matplotlib.pyplot as plt\n",
      "%matplotlib inline"
     ],
     "language": "python",
     "metadata": {},
     "outputs": []
    },
    {
     "cell_type": "code",
     "collapsed": false,
     "input": [
      "train = pd.read_csv('data/titanic_train.csv')\n",
      "test = pd.read_csv('data/titanic_test.csv')"
     ],
     "language": "python",
     "metadata": {},
     "outputs": []
    },
    {
     "cell_type": "code",
     "collapsed": false,
     "input": [
      "train"
     ],
     "language": "python",
     "metadata": {},
     "outputs": []
    },
    {
     "cell_type": "code",
     "collapsed": false,
     "input": [
      "train[train.columns[[2,4,5,1]]].head()"
     ],
     "language": "python",
     "metadata": {},
     "outputs": []
    },
    {
     "cell_type": "code",
     "collapsed": false,
     "input": [
      "data = train[['Sex', 'Age', 'Pclass', 'Survived']].copy()\n",
      "data['Sex'] = (data['Sex'] == 'female')\n",
      "data = data.dropna()"
     ],
     "language": "python",
     "metadata": {},
     "outputs": []
    },
    {
     "cell_type": "code",
     "collapsed": false,
     "input": [
      "data_np = data.astype(np.int32).values\n",
      "X = data_np[:,:-1]\n",
      "y = data_np[:,-1]"
     ],
     "language": "python",
     "metadata": {},
     "outputs": []
    },
    {
     "cell_type": "code",
     "collapsed": false,
     "input": [
      "# We define a few boolean vectors.\n",
      "female = X[:,0] == 1\n",
      "survived = y == 1\n",
      "# This vector contains the age of the passengers.\n",
      "age = X[:,1]\n",
      "# We compute a few histograms.\n",
      "bins_ = np.arange(0, 81, 5)\n",
      "S = {'male': np.histogram(age[survived & ~female], \n",
      "                          bins=bins_)[0],\n",
      "     'female': np.histogram(age[survived & female], \n",
      "                            bins=bins_)[0]}\n",
      "D = {'male': np.histogram(age[~survived & ~female], \n",
      "                          bins=bins_)[0],\n",
      "     'female': np.histogram(age[~survived & female], \n",
      "                            bins=bins_)[0]}"
     ],
     "language": "python",
     "metadata": {},
     "outputs": []
    },
    {
     "cell_type": "code",
     "collapsed": false,
     "input": [
      "# We now plot the data.\n",
      "bins = bins_[:-1]\n",
      "plt.figure(figsize=(5,6));\n",
      "for i, sex, color in zip((0, 1),\n",
      "                         ('male', 'female'),\n",
      "                         ('#3345d0', '#cc3dc0')):\n",
      "    plt.subplot(211 + i);\n",
      "    plt.bar(bins, S[sex], bottom=D[sex], color=color,\n",
      "            width=5, label='survived');\n",
      "    plt.bar(bins, D[sex], color='k', width=5, label='died');\n",
      "    plt.xlim(0, 80);\n",
      "    plt.grid(None);\n",
      "    plt.title(sex + \" survival\");\n",
      "    plt.xlabel(\"Age (years)\");\n",
      "    plt.legend();"
     ],
     "language": "python",
     "metadata": {},
     "outputs": []
    },
    {
     "cell_type": "code",
     "collapsed": false,
     "input": [
      "# We split X and y into train and test datasets.\n",
      "(X_train, X_test, \n",
      " y_train, y_test) = cv.train_test_split(X, y, test_size=.05)"
     ],
     "language": "python",
     "metadata": {},
     "outputs": []
    },
    {
     "cell_type": "code",
     "collapsed": false,
     "input": [
      "logreg = lm.LogisticRegression();"
     ],
     "language": "python",
     "metadata": {},
     "outputs": []
    },
    {
     "cell_type": "code",
     "collapsed": false,
     "input": [
      "logreg.fit(X_train, y_train)\n",
      "y_predicted = logreg.predict(X_test)"
     ],
     "language": "python",
     "metadata": {},
     "outputs": []
    },
    {
     "cell_type": "code",
     "collapsed": false,
     "input": [
      "plt.figure(figsize=(3, 8));\n",
      "plt.imshow(np.vstack((y_test, y_predicted)).T,\n",
      "           interpolation='none', cmap='bone');\n",
      "plt.xticks([]); plt.yticks([]);\n",
      "plt.title((\"Actual and predicted survival outcomes\"\n",
      "          \" on the test set\"));"
     ],
     "language": "python",
     "metadata": {},
     "outputs": []
    },
    {
     "cell_type": "code",
     "collapsed": false,
     "input": [
      "logreg.coef_"
     ],
     "language": "python",
     "metadata": {},
     "outputs": []
    },
    {
     "cell_type": "code",
     "collapsed": false,
     "input": [
      "cv.cross_val_score(logreg, X, y)"
     ],
     "language": "python",
     "metadata": {},
     "outputs": []
    },
    {
     "cell_type": "code",
     "collapsed": false,
     "input": [
      "cm = confusion_matrix(y_test, y_predicted)\n",
      "cm"
     ],
     "language": "python",
     "metadata": {},
     "outputs": []
    },
    {
     "cell_type": "code",
     "collapsed": false,
     "input": [
      "grid = gs.GridSearchCV(logreg, {'C': np.logspace(-5, 5, 200)}, n_jobs=4)\n",
      "grid.fit(X_train, y_train);\n",
      "grid.best_params_"
     ],
     "language": "python",
     "metadata": {},
     "outputs": []
    },
    {
     "cell_type": "code",
     "collapsed": false,
     "input": [
      "cv.cross_val_score(grid.best_estimator_, X, y)"
     ],
     "language": "python",
     "metadata": {},
     "outputs": []
    },
    {
     "cell_type": "markdown",
     "metadata": [],
     "source": [
      "> This is adapted from one of the 100 recipes of the [IPython Cookbook](http://ipython-books.github.io/), the definitive guide to high-performance scientific computing and data science in Python.\n"
     ]
    }
   ],
   "metadata": {}
  }
 ]
}